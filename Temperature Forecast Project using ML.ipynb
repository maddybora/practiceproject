{
  "metadata": {
    "language_info": {
      "name": ""
    },
    "kernelspec": {
      "name": ""
    }
  },
  "nbformat_minor": 4,
  "nbformat": 4,
  "cells": [
    {
      "cell_type": "code",
      "source": "import pandas as pd\nfrom sklearn.model_selection import train_test_split\nfrom sklearn.linear_model import LinearRegression\nfrom sklearn.metrics import mean_squared_error\n",
      "metadata": {
        "trusted": true
      },
      "execution_count": null,
      "outputs": []
    },
    {
      "cell_type": "code",
      "source": "url = \"https://raw.githubusercontent.com/dsrscientist/Dataset2/main/temperature.csv\"\ndata = pd.read_csv(url)\n",
      "metadata": {
        "trusted": true
      },
      "execution_count": null,
      "outputs": []
    },
    {
      "cell_type": "code",
      "source": "# Drop unnecessary columns\ndata = data.drop(['Date'], axis=1)\n\n# Split features and target variables\nX = data.drop(['Next_Tmax', 'Next_Tmin'], axis=1)\ny_max = data['Next_Tmax']\ny_min = data['Next_Tmin']\n\n# Split the data into training and testing sets\nX_train, X_test, y_max_train, y_max_test, y_min_train, y_min_test = train_test_split(X, y_max, y_min, test_size=0.2, random_state=42)\n",
      "metadata": {
        "trusted": true
      },
      "execution_count": null,
      "outputs": []
    },
    {
      "cell_type": "code",
      "source": "# Initialize linear regression models\nmax_temp_model = LinearRegression()\nmin_temp_model = LinearRegression()\n\n# Train models\nmax_temp_model.fit(X_train, y_max_train)\nmin_temp_model.fit(X_train, y_min_train)\n",
      "metadata": {
        "trusted": true
      },
      "execution_count": null,
      "outputs": []
    },
    {
      "cell_type": "code",
      "source": "# Make predictions\ny_max_pred = max_temp_model.predict(X_test)\ny_min_pred = min_temp_model.predict(X_test)\n\n# Calculate mean squared error for evaluation\nmse_max = mean_squared_error(y_max_test, y_max_pred)\nmse_min = mean_squared_error(y_min_test, y_min_pred)\n\nprint(f\"Mean Squared Error for Max Temperature: {mse_max:.2f}\")\nprint(f\"Mean Squared Error for Min Temperature: {mse_min:.2f}\")\n",
      "metadata": {
        "trusted": true
      },
      "execution_count": null,
      "outputs": []
    },
    {
      "cell_type": "code",
      "source": "# Example input data for prediction (replace with your own data)\nexample_data = X_test.iloc[0:1]\n\n# Predict next-day max and min temperatures\npredicted_max_temp = max_temp_model.predict(example_data)\npredicted_min_temp = min_temp_model.predict(example_data)\n\nprint(f\"Predicted Max Temperature: {predicted_max_temp[0]:.2f}°C\")\nprint(f\"Predicted Min Temperature: {predicted_min_temp[0]:.2f}°C\")\n",
      "metadata": {},
      "execution_count": null,
      "outputs": []
    }
  ]
}