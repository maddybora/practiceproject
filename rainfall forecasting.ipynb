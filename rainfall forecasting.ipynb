{
  "metadata": {
    "language_info": {
      "name": ""
    },
    "kernelspec": {
      "name": ""
    }
  },
  "nbformat_minor": 4,
  "nbformat": 4,
  "cells": [
    {
      "cell_type": "code",
      "source": "import pandas as pd\nimport numpy as np\nfrom sklearn.model_selection import train_test_split\nfrom sklearn.preprocessing import LabelEncoder\nfrom sklearn.ensemble import RandomForestClassifier, RandomForestRegressor\nfrom sklearn.metrics import accuracy_score, mean_squared_error\n\n# Load the dataset\nurl = \"https://raw.githubusercontent.com/dsrscientist/dataset3/main/weatherAUS.csv\"\ndata = pd.read_csv(url)\n\n# Display basic information about the dataset\nprint(data.info())\nprint(data.head())\n\n# Drop columns that might not be relevant for prediction\ndata = data.drop(['Date', 'Location'], axis=1)\n\n# Preprocessing\n# Convert categorical variables to numerical using Label Encoding\nlabel_encoder = LabelEncoder()\ncategorical_cols = ['WindGustDir', 'WindDir9am', 'WindDir3pm']\nfor col in categorical_cols:\n    data[col] = label_encoder.fit_transform(data[col].fillna('N/A'))\n\n# Fill missing numerical values with mean\ndata = data.fillna(data.mean())\n\n# Split the data into features (X) and target (y) for both tasks\nX_classification = data.drop('RainTomorrow', axis=1)\ny_classification = data['RainTomorrow']\nX_regression = data.drop('Rainfall', axis=1)\ny_regression = data['Rainfall']\n\n# Split the data into training and testing sets for both tasks\nX_train_class, X_test_class, y_train_class, y_test_class = train_test_split(X_classification, y_classification, test_size=0.2, random_state=42)\nX_train_reg, X_test_reg, y_train_reg, y_test_reg = train_test_split(X_regression, y_regression, test_size=0.2, random_state=42)\n\n# Train a RandomForestClassifier for classification task\nclf_model = RandomForestClassifier(random_state=42)\nclf_model.fit(X_train_class, y_train_class)\ny_pred_class = clf_model.predict(X_test_class)\naccuracy = accuracy_score(y_test_class, y_pred_class)\nprint(\"Classification Accuracy:\", accuracy)\n\n# Train a RandomForestRegressor for regression task\nreg_model = RandomForestRegressor(random_state=42)\nreg_model.fit(X_train_reg, y_train_reg)\ny_pred_reg = reg_model.predict(X_test_reg)\nmse = mean_squared_error(y_test_reg, y_pred_reg)\nprint(\"Regression Mean Squared Error:\", mse)\n",
      "metadata": {
        "trusted": true
      },
      "execution_count": null,
      "outputs": []
    },
    {
      "cell_type": "code",
      "source": "",
      "metadata": {},
      "execution_count": null,
      "outputs": []
    }
  ]
}