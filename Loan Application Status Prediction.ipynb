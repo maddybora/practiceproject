{
  "metadata": {
    "language_info": {
      "name": ""
    },
    "kernelspec": {
      "name": ""
    }
  },
  "nbformat_minor": 4,
  "nbformat": 4,
  "cells": [
    {
      "cell_type": "code",
      "source": "import pandas as pd\nfrom sklearn.model_selection import train_test_split\nfrom sklearn.preprocessing import LabelEncoder\nfrom sklearn.ensemble import RandomForestClassifier\nfrom sklearn.metrics import accuracy_score\n",
      "metadata": {
        "trusted": true
      },
      "execution_count": null,
      "outputs": []
    },
    {
      "cell_type": "code",
      "source": "url = \"https://raw.githubusercontent.com/dsrscientist/DSData/master/loan_prediction.csv\"\ndata = pd.read_csv(url)\n",
      "metadata": {
        "trusted": true
      },
      "execution_count": null,
      "outputs": []
    },
    {
      "cell_type": "code",
      "source": "v# Drop unnecessary columns\ndata = data.drop(['Loan_ID'], axis=1)\n\n# Handle missing values (you can use more sophisticated methods)\ndata = data.fillna(method='ffill') \n\n# Convert categorical variables to numerical using Label Encoding\nlabel_encoder = LabelEncoder()\nfor column in data.columns:\n    if data[column].dtype == 'object':\n        data[column] = label_encoder.fit_transform(data[column])\n\n# Split features and target variable\nX = data.drop(['Loan_Status'], axis=1)\ny = data['Loan_Status']\n\n# Split the data into training and testing sets\nX_train, X_test, y_train, y_test = train_test_split(X, y, test_size=0.2, random_state=42)\n",
      "metadata": {
        "trusted": true
      },
      "execution_count": null,
      "outputs": []
    },
    {
      "cell_type": "code",
      "source": "# Initialize a Random Forest Classifier\nclf = RandomForestClassifier(random_state=42)\n\n# Train the model\nclf.fit(X_train, y_train)\n",
      "metadata": {
        "trusted": true
      },
      "execution_count": null,
      "outputs": []
    },
    {
      "cell_type": "code",
      "source": "# Make predictions\ny_pred = clf.predict(X_test)\n\n# Calculate accuracy\naccuracy = accuracy_score(y_test, y_pred)\nprint(f'Accuracy: {accuracy:.2f}')\n",
      "metadata": {
        "trusted": true
      },
      "execution_count": null,
      "outputs": []
    },
    {
      "cell_type": "code",
      "source": "# Example input data for prediction (replace with your own data)\nexample_data = X_test.iloc[0:1]\n\n# Predict loan status\npredicted_loan_status = clf.predict(example_data)\nif predicted_loan_status[0] == 1:\n    result = 'Approved'\nelse:\n    result = 'Not Approved'\n\nprint(f'Predicted Loan Status: {result}')\n",
      "metadata": {
        "trusted": true
      },
      "execution_count": null,
      "outputs": []
    },
    {
      "cell_type": "code",
      "source": "",
      "metadata": {},
      "execution_count": null,
      "outputs": []
    }
  ]
}