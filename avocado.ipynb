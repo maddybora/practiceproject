{
  "metadata": {
    "language_info": {
      "name": ""
    },
    "kernelspec": {
      "name": ""
    }
  },
  "nbformat_minor": 4,
  "nbformat": 4,
  "cells": [
    {
      "cell_type": "code",
      "source": "pip install pandas numpy matplotlib scikit-learn\n",
      "metadata": {},
      "execution_count": null,
      "outputs": []
    },
    {
      "cell_type": "code",
      "source": "import pandas as pd\nimport numpy as np\nimport matplotlib.pyplot as plt\nfrom sklearn.model_selection import train_test_split\nfrom sklearn.preprocessing import LabelEncoder, StandardScaler\nfrom sklearn.linear_model import LinearRegression\nfrom sklearn.ensemble import RandomForestClassifier\nfrom sklearn.metrics import accuracy_score, mean_squared_error\n\n# Load the dataset\nurl = 'https://raw.githubusercontent.com/dsrscientist/Data-Science-ML-Capstone-Projects/master/avocado.csv.zip'\ndf = pd.read_csv(url)\n\n# Explore the dataset\nprint(df.head())  # Display the first few rows of the dataset\nprint(df.info())  # Check data types and missing values\n\n# Data Preprocessing\n\n# Convert Date column to datetime type\ndf['Date'] = pd.to_datetime(df['Date'])\n\n# Drop irrelevant columns\ndf.drop(['Unnamed: 0'], axis=1, inplace=True)\n\n# Encoding categorical columns\nencoder = LabelEncoder()\ndf['type'] = encoder.fit_transform(df['type'])\n\n# Separate features and target for classification\nX_cls = df.drop(['Region'], axis=1)\ny_cls = df['Region']\n\n# Separate features and target for regression\nX_reg = df.drop(['AveragePrice'], axis=1)\ny_reg = df['AveragePrice']\n\n# Split the data for both tasks\nX_cls_train, X_cls_test, y_cls_train, y_cls_test = train_test_split(X_cls, y_cls, test_size=0.2, random_state=42)\nX_reg_train, X_reg_test, y_reg_train, y_reg_test = train_test_split(X_reg, y_reg, test_size=0.2, random_state=42)\n\n# Scaling the features for regression\nscaler = StandardScaler()\nX_reg_train_scaled = scaler.fit_transform(X_reg_train)\nX_reg_test_scaled = scaler.transform(X_reg_test)\n\n# Classification Task: Using Random Forest Classifier\nclf = RandomForestClassifier(random_state=42)\nclf.fit(X_cls_train, y_cls_train)\ny_cls_pred = clf.predict(X_cls_test)\n\n# Regression Task: Using Linear Regression\nregressor = LinearRegression()\nregressor.fit(X_reg_train_scaled, y_reg_train)\ny_reg_pred = regressor.predict(X_reg_test_scaled)\n\n# Evaluation for Classification\naccuracy = accuracy_score(y_cls_test, y_cls_pred)\nprint(\"Classification Accuracy:\", accuracy)\n\n# Evaluation for Regression\nmse = mean_squared_error(y_reg_test, y_reg_pred)\nprint(\"Regression Mean Squared Error:\", mse)\n\n# Visualization for Regression\nplt.scatter(y_reg_test, y_reg_pred)\nplt.xlabel(\"Actual Average Price\")\nplt.ylabel(\"Predicted Average Price\")\nplt.title(\"Actual Average Price vs. Predicted Average Price\")\nplt.show()\n",
      "metadata": {},
      "execution_count": null,
      "outputs": []
    }
  ]
}