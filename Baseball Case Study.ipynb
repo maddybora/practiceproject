{
  "metadata": {
    "language_info": {
      "name": ""
    },
    "kernelspec": {
      "name": ""
    }
  },
  "nbformat_minor": 4,
  "nbformat": 4,
  "cells": [
    {
      "cell_type": "code",
      "source": "pip install pandas scikit-learn matplotlib\n",
      "metadata": {},
      "execution_count": null,
      "outputs": []
    },
    {
      "cell_type": "code",
      "source": "import pandas as pd\nimport numpy as np\nimport matplotlib.pyplot as plt\nfrom sklearn.model_selection import train_test_split\nfrom sklearn.linear_model import LinearRegression\nfrom sklearn.metrics import mean_squared_error, r2_score\n\n# Load the dataset\nurl = 'https://raw.githubusercontent.com/dsrscientist/Data-Science-ML-Capstone-Projects/master/baseball.csv'\ndf = pd.read_csv(url)\n\n# Explore the dataset\nprint(df.head())  # Display the first few rows of the dataset\n\n# Check for missing values\nprint(df.isnull().sum())\n\n# Separate the features (X) and the target (y)\nX = df.drop(columns=['W'], axis=1)\ny = df['W']\n\n# Split the data into training and testing sets (80% training, 20% testing)\nX_train, X_test, y_train, y_test = train_test_split(X, y, test_size=0.2, random_state=42)\n\n# Create a Linear Regression model\nmodel = LinearRegression()\n\n# Train the model using the training data\nmodel.fit(X_train, y_train)\n\n# Make predictions using the test data\ny_pred = model.predict(X_test)\n\n# Evaluate the model\nmse = mean_squared_error(y_test, y_pred)\nr2 = r2_score(y_test, y_pred)\n\nprint(\"Mean Squared Error:\", mse)\nprint(\"R-squared:\", r2)\n\n# Visualize the predicted vs. actual wins\nplt.scatter(y_test, y_pred)\nplt.xlabel(\"Actual Wins\")\nplt.ylabel(\"Predicted Wins\")\nplt.title(\"Actual Wins vs. Predicted Wins\")\nplt.show()\n",
      "metadata": {},
      "execution_count": null,
      "outputs": []
    }
  ]
}