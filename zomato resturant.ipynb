{
  "metadata": {
    "language_info": {
      "name": ""
    },
    "kernelspec": {
      "name": ""
    }
  },
  "nbformat_minor": 4,
  "nbformat": 4,
  "cells": [
    {
      "cell_type": "code",
      "source": "import pandas as pd\nimport numpy as np\nfrom sklearn.model_selection import train_test_split\nfrom sklearn.preprocessing import LabelEncoder\nfrom sklearn.ensemble import RandomForestRegressor\nfrom sklearn.metrics import mean_squared_error\n\n# Load the datasets\nurl_country_code = \"https://github.com/dsrscientist/dataset4/raw/main/Country-Code.xlsx\"\nurl_zomato = \"https://github.com/dsrscientist/dataset4/raw/main/zomato.csv\"\n\ncountry_code_data = pd.read_excel(url_country_code)\nzomato_data = pd.read_csv(url_zomato)\n\n# Merge the datasets using Country Code\ndata = pd.merge(zomato_data, country_code_data, left_on='Country Code', right_on='Country Code')\n\n# Display basic information about the dataset\nprint(data.info())\nprint(data.head())\n\n# Preprocessing\n# Convert categorical variables to numerical using Label Encoding\nlabel_encoder = LabelEncoder()\ncategorical_cols = ['City', 'Locality', 'Cuisines', 'Currency']\nfor col in categorical_cols:\n    data[col] = label_encoder.fit_transform(data[col])\n\n# Drop irrelevant columns\ndata = data.drop(['Restaurant ID', 'Restaurant Name', 'Country Code', 'Address', 'Locality Verbose', 'Rating color', 'Rating text'], axis=1)\n\n# Fill missing values with mean\ndata = data.fillna(data.mean())\n\n# Split the data into features (X) and target (y) for both tasks\nX_avg_cost = data.drop(['Average Cost for two', 'Price range'], axis=1)\ny_avg_cost = data['Average Cost for two']\nX_price_range = data.drop(['Average Cost for two', 'Price range'], axis=1)\ny_price_range = data['Price range']\n\n# Split the data into training and testing sets for both tasks\nX_train_avg_cost, X_test_avg_cost, y_train_avg_cost, y_test_avg_cost = train_test_split(X_avg_cost, y_avg_cost, test_size=0.2, random_state=42)\nX_train_price_range, X_test_price_range, y_train_price_range, y_test_price_range = train_test_split(X_price_range, y_price_range, test_size=0.2, random_state=42)\n\n# Train RandomForestRegressor for both tasks\nreg_avg_cost_model = RandomForestRegressor(random_state=42)\nreg_avg_cost_model.fit(X_train_avg_cost, y_train_avg_cost)\ny_pred_avg_cost = reg_avg_cost_model.predict(X_test_avg_cost)\nmse_avg_cost = mean_squared_error(y_test_avg_cost, y_pred_avg_cost)\nprint(\"Average Cost for two Mean Squared Error:\", mse_avg_cost)\n\nreg_price_range_model = RandomForestRegressor(random_state=42)\nreg_price_range_model.fit(X_train_price_range, y_train_price_range)\ny_pred_price_range = reg_price_range_model.predict(X_test_price_range)\nmse_price_range = mean_squared_error(y_test_price_range, y_pred_price_range)\nprint(\"Price Range Mean Squared Error:\", mse_price_range)\n",
      "metadata": {},
      "execution_count": null,
      "outputs": []
    }
  ]
}