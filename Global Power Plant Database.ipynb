{
  "metadata": {
    "language_info": {
      "name": ""
    },
    "kernelspec": {
      "name": ""
    }
  },
  "nbformat_minor": 4,
  "nbformat": 4,
  "cells": [
    {
      "cell_type": "code",
      "source": "import pandas as pd\nfrom sklearn.model_selection import train_test_split\nfrom sklearn.ensemble import RandomForestClassifier\nfrom sklearn.metrics import accuracy_score\n\n# Load the dataset into a Pandas DataFrame\n# Replace 'path_to_csv' with the actual path to your downloaded CSV file\ndata = pd.read_csv('path_to_csv')\n\n# Select relevant features for prediction\nfeatures = ['capacity_mw', 'other_fuel1', 'other_fuel2', 'other_fuel3']\n\n# Remove rows with missing values in 'capacity_mw' or 'primary_fuel'\ndata = data.dropna(subset=['capacity_mw', 'primary_fuel'])\n\n# Encode categorical fuel types using one-hot encoding\ndata = pd.get_dummies(data, columns=['other_fuel1', 'other_fuel2', 'other_fuel3'])\n\n# Split data into features (X) and target (y)\nX = data.drop(['primary_fuel'], axis=1)\ny = data['primary_fuel']\n\n# Split data into training and testing sets\nX_train, X_test, y_train, y_test = train_test_split(X, y, test_size=0.2, random_state=42)\n\n# Initialize and train a RandomForestClassifier\nclf = RandomForestClassifier(random_state=42)\nclf.fit(X_train, y_train)\n\n# Make predictions on the test set\ny_pred = clf.predict(X_test)\n\n# Calculate accuracy\naccuracy = accuracy_score(y_test, y_pred)\nprint(f'Accuracy: {accuracy:.2f}')\n\n# Example prediction for capacity_mw\nexample_capacity = [[100, 0, 1, 0, 0, 0, 0, 1, 0]]  # Replace with your own data\npredicted_fuel = clf.predict(example_capacity)\nprint(f'Predicted Primary Fuel: {predicted_fuel[0]}')\n",
      "metadata": {},
      "execution_count": null,
      "outputs": []
    }
  ]
}