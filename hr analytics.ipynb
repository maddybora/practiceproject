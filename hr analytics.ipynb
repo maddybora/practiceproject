{
  "metadata": {
    "language_info": {
      "name": ""
    },
    "kernelspec": {
      "name": ""
    }
  },
  "nbformat_minor": 4,
  "nbformat": 4,
  "cells": [
    {
      "cell_type": "code",
      "source": "pip install pandas numpy scikit-learn matplotlib\n",
      "metadata": {},
      "execution_count": null,
      "outputs": []
    },
    {
      "cell_type": "code",
      "source": "import pandas as pd\nimport numpy as np\nimport matplotlib.pyplot as plt\nfrom sklearn.model_selection import train_test_split\nfrom sklearn.preprocessing import LabelEncoder\nfrom sklearn.ensemble import RandomForestClassifier\nfrom sklearn.metrics import accuracy_score, confusion_matrix\n\n# Load the dataset\nurl = 'https://raw.githubusercontent.com/dsrscientist/IBM_HR_Attrition_Rate_Analytics/master/HR-Employee-Attrition.csv'\ndf = pd.read_csv(url)\n\n# Explore the dataset\nprint(df.head())  # Display the first few rows of the dataset\nprint(df.info())  # Check data types and missing values\nprint(df['Attrition'].value_counts())  # Check the distribution of the target variable (Attrition)\n\n# Data Preprocessing\n\n# Drop irrelevant columns or columns that are not useful for analysis\ndf.drop(['EmployeeCount', 'EmployeeNumber', 'Over18', 'StandardHours'], axis=1, inplace=True)\n\n# Encoding categorical columns\nencoder = LabelEncoder()\ncategorical_columns = df.select_dtypes(include='object').columns\nfor col in categorical_columns:\n    df[col] = encoder.fit_transform(df[col])\n\n# Separate features and target\nX = df.drop(['Attrition'], axis=1)\ny = df['Attrition']\n\n# Split the data into training and testing sets (80% training, 20% testing)\nX_train, X_test, y_train, y_test = train_test_split(X, y, test_size=0.2, random_state=42)\n\n# Build the Random Forest Classifier model\nclf = RandomForestClassifier(random_state=42)\nclf.fit(X_train, y_train)\n\n# Make predictions on the test data\ny_pred = clf.predict(X_test)\n\n# Evaluate the model\naccuracy = accuracy_score(y_test, y_pred)\nconf_matrix = confusion_matrix(y_test, y_pred)\n\nprint(\"Accuracy:\", accuracy)\nprint(\"Confusion Matrix:\")\nprint(conf_matrix)\n",
      "metadata": {},
      "execution_count": null,
      "outputs": []
    }
  ]
}