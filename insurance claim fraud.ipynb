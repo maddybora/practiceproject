{
  "metadata": {
    "language_info": {
      "name": ""
    },
    "kernelspec": {
      "name": ""
    }
  },
  "nbformat_minor": 4,
  "nbformat": 4,
  "cells": [
    {
      "cell_type": "code",
      "source": "import pandas as pd\nimport numpy as np\nfrom sklearn.model_selection import train_test_split\nfrom sklearn.preprocessing import LabelEncoder\nfrom sklearn.ensemble import RandomForestClassifier\nfrom sklearn.metrics import accuracy_score, confusion_matrix\n\n# Load the dataset\nurl = \"https://raw.githubusercontent.com/dsrscientist/Data-Science-ML-Capstone-Projects/master/Automobile_insurance_fraud.csv\"\ndata = pd.read_csv(url)\n\n# Display basic information about the dataset\nprint(data.info())\nprint(data.head())\n\n# Drop irrelevant columns\ndata = data.drop(['policy_number', 'policy_bind_date', 'incident_date', '_c39'], axis=1)\n\n# Preprocessing\n# Convert categorical variables to numerical using Label Encoding\nlabel_encoder = LabelEncoder()\ncategorical_cols = ['policy_state', 'policy_csl', 'insured_sex', 'insured_education_level', 'insured_occupation',\n                    'insured_hobbies', 'insured_relationship', 'incident_type', 'collision_type', 'incident_severity',\n                    'authorities_contacted', 'incident_state', 'incident_city', 'property_damage', 'police_report_available',\n                    'auto_make', 'auto_model']\nfor col in categorical_cols:\n    data[col] = label_encoder.fit_transform(data[col])\n\n# Convert 'fraud_reported' to binary labels\ndata['fraud_reported'] = data['fraud_reported'].apply(lambda x: 1 if x == 'Y' else 0)\n\n# Split the data into features (X) and target (y)\nX = data.drop('fraud_reported', axis=1)\ny = data['fraud_reported']\n\n# Split the data into training and testing sets\nX_train, X_test, y_train, y_test = train_test_split(X, y, test_size=0.2, random_state=42)\n\n# Train a RandomForestClassifier\nmodel = RandomForestClassifier(random_state=42)\nmodel.fit(X_train, y_train)\n\n# Predictions\ny_pred = model.predict(X_test)\n\n# Calculate accuracy and confusion matrix\naccuracy = accuracy_score(y_test, y_pred)\nconf_matrix = confusion_matrix(y_test, y_pred)\nprint(\"Accuracy:\", accuracy)\nprint(\"Confusion Matrix:\\n\", conf_matrix)\n",
      "metadata": {},
      "execution_count": null,
      "outputs": []
    }
  ]
}